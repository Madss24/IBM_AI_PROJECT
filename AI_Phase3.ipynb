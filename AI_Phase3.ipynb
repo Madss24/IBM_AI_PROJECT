{
  "nbformat": 4,
  "nbformat_minor": 0,
  "metadata": {
    "colab": {
      "provenance": [],
      "authorship_tag": "ABX9TyPV15e2m9bXOtEBkOF+DfZ+",
      "include_colab_link": true
    },
    "kernelspec": {
      "name": "python3",
      "display_name": "Python 3"
    },
    "language_info": {
      "name": "python"
    }
  },
  "cells": [
    {
      "cell_type": "markdown",
      "metadata": {
        "id": "view-in-github",
        "colab_type": "text"
      },
      "source": [
        "<a href=\"https://colab.research.google.com/github/Madss24/IBM_AI_PROJECT/blob/main/AI_Phase3.ipynb\" target=\"_parent\"><img src=\"https://colab.research.google.com/assets/colab-badge.svg\" alt=\"Open In Colab\"/></a>"
      ]
    },
    {
      "cell_type": "markdown",
      "source": [
        "# **Market Basket Insights Project**"
      ],
      "metadata": {
        "id": "9sGJkvn4oOBp"
      }
    },
    {
      "cell_type": "markdown",
      "source": [
        "# Project Introduction\n",
        "\n",
        "This project aims to analyze market basket data. In this notebook, we will load and preprocess the dataset.\n",
        "\n",
        "**Dataset :**\n",
        "\n",
        "The dataset is stored in the file named \"Assignment-1_Data.xlsx\" located at \"/kaggle/input/market-basket-analysis/\". It contains information on market transactions.\n",
        "\n",
        "\n",
        "# Loading the Dataset\n",
        "\n",
        "Let's start by loading the dataset into a DataFrame using the pandas library.\n",
        "\n",
        "\n"
      ],
      "metadata": {
        "id": "Z-lc5BqT0DvC"
      }
    },
    {
      "cell_type": "markdown",
      "source": [
        "**IMPORT NECESSARY LIBRARIES**"
      ],
      "metadata": {
        "id": "MjjFaHYZjwJ3"
      }
    },
    {
      "cell_type": "code",
      "execution_count": 21,
      "metadata": {
        "id": "ECQ17pYHbpMf"
      },
      "outputs": [],
      "source": [
        "import numpy as np\n",
        "import pandas as pd\n"
      ]
    },
    {
      "cell_type": "markdown",
      "source": [
        "**LOADING THE DATASET**\n",
        "\n",
        "\n"
      ],
      "metadata": {
        "id": "ZrLpEk7OkGpD"
      }
    },
    {
      "cell_type": "code",
      "source": [
        "dataset_path = 'Assignment-1_Data.xlsx'\n",
        "df = pd.read_excel(dataset_path)"
      ],
      "metadata": {
        "id": "UeMm-OjdcnI2"
      },
      "execution_count": 22,
      "outputs": []
    },
    {
      "cell_type": "markdown",
      "source": [
        "# **Initial Exploration**\n",
        "\n",
        "To gain a better understanding of the dataset's structure and characteristics, we will conduct an initial exploration.\n"
      ],
      "metadata": {
        "id": "WIHiYZlioDVq"
      }
    },
    {
      "cell_type": "code",
      "source": [
        "print(\"Number of rows and columns:\", df.shape)\n",
        "print(\"\\nData Types and Missing Values:\")\n",
        "print(df.info())\n",
        "print(\"\\nFirst few rows of the dataset:\")\n",
        "print(df.head())"
      ],
      "metadata": {
        "colab": {
          "base_uri": "https://localhost:8080/"
        },
        "id": "NcToMxfYpLVO",
        "outputId": "bac8ea9f-abcb-4ee7-c872-1fa1c7202b06"
      },
      "execution_count": 23,
      "outputs": [
        {
          "output_type": "stream",
          "name": "stdout",
          "text": [
            "Number of rows and columns: (522064, 7)\n",
            "\n",
            "Data Types and Missing Values:\n",
            "<class 'pandas.core.frame.DataFrame'>\n",
            "RangeIndex: 522064 entries, 0 to 522063\n",
            "Data columns (total 7 columns):\n",
            " #   Column      Non-Null Count   Dtype         \n",
            "---  ------      --------------   -----         \n",
            " 0   BillNo      522064 non-null  object        \n",
            " 1   Itemname    520609 non-null  object        \n",
            " 2   Quantity    522064 non-null  int64         \n",
            " 3   Date        522064 non-null  datetime64[ns]\n",
            " 4   Price       522064 non-null  float64       \n",
            " 5   CustomerID  388023 non-null  float64       \n",
            " 6   Country     522064 non-null  object        \n",
            "dtypes: datetime64[ns](1), float64(2), int64(1), object(3)\n",
            "memory usage: 27.9+ MB\n",
            "None\n",
            "\n",
            "First few rows of the dataset:\n",
            "   BillNo                             Itemname  Quantity                Date  \\\n",
            "0  536365   WHITE HANGING HEART T-LIGHT HOLDER         6 2010-12-01 08:26:00   \n",
            "1  536365                  WHITE METAL LANTERN         6 2010-12-01 08:26:00   \n",
            "2  536365       CREAM CUPID HEARTS COAT HANGER         8 2010-12-01 08:26:00   \n",
            "3  536365  KNITTED UNION FLAG HOT WATER BOTTLE         6 2010-12-01 08:26:00   \n",
            "4  536365       RED WOOLLY HOTTIE WHITE HEART.         6 2010-12-01 08:26:00   \n",
            "\n",
            "   Price  CustomerID         Country  \n",
            "0   2.55     17850.0  United Kingdom  \n",
            "1   3.39     17850.0  United Kingdom  \n",
            "2   2.75     17850.0  United Kingdom  \n",
            "3   3.39     17850.0  United Kingdom  \n",
            "4   3.39     17850.0  United Kingdom  \n"
          ]
        }
      ]
    },
    {
      "cell_type": "markdown",
      "source": [
        "# **Preprocessing**\n",
        "\n",
        "Now to prepare the data for analysis, we will perform preprocessing steps. This will ensure that the data is ready for further analysis."
      ],
      "metadata": {
        "id": "KbtyMuHiqCqK"
      }
    },
    {
      "cell_type": "markdown",
      "source": [
        "**DROP ROWS WITH MISSING VALUES**"
      ],
      "metadata": {
        "id": "DAiTVon5kaHQ"
      }
    },
    {
      "cell_type": "code",
      "source": [
        "print(\"Missing Values:\")\n",
        "print(df.isnull().sum())\n",
        "df.dropna(inplace=True)\n"
      ],
      "metadata": {
        "colab": {
          "base_uri": "https://localhost:8080/"
        },
        "id": "mRdJWOOAin0u",
        "outputId": "a88d3ca4-f76c-4d8b-b17b-6fafe7186ffc"
      },
      "execution_count": 24,
      "outputs": [
        {
          "output_type": "stream",
          "name": "stdout",
          "text": [
            "Missing Values:\n",
            "BillNo             0\n",
            "Itemname        1455\n",
            "Quantity           0\n",
            "Date               0\n",
            "Price              0\n",
            "CustomerID    134041\n",
            "Country            0\n",
            "dtype: int64\n"
          ]
        }
      ]
    },
    {
      "cell_type": "markdown",
      "source": [
        "**CONVERT DATAFRAME INTO TRANSACTION DATA**"
      ],
      "metadata": {
        "id": "4GaKMUQ5krzs"
      }
    },
    {
      "cell_type": "code",
      "source": [
        "transaction_data = df.groupby(['BillNo', 'Date'])['Itemname'].agg(', '.join).reset_index()\n"
      ],
      "metadata": {
        "id": "HzBpV2OoisQW"
      },
      "execution_count": 25,
      "outputs": []
    },
    {
      "cell_type": "markdown",
      "source": [
        "**DROP UNNECESSARY COLUMNS**"
      ],
      "metadata": {
        "id": "DyV6_XRrlJRY"
      }
    },
    {
      "cell_type": "code",
      "source": [
        "transaction_data = transaction_data.drop(['BillNo', 'Date'], axis=1)\n"
      ],
      "metadata": {
        "id": "o8FC_NnZi7HJ"
      },
      "execution_count": 26,
      "outputs": []
    },
    {
      "cell_type": "markdown",
      "source": [
        "**SAVING THE TRANSACTION DATA TO A CSV FILE**"
      ],
      "metadata": {
        "id": "00GmWJxalSEd"
      }
    },
    {
      "cell_type": "code",
      "source": [
        "transaction_data.to_csv('transaction_data.csv', index=False)\n"
      ],
      "metadata": {
        "id": "Wuj0ZZhtjIj_"
      },
      "execution_count": 27,
      "outputs": []
    },
    {
      "cell_type": "markdown",
      "source": [
        "**DISPLAYING THE TRANSACTION DATA**"
      ],
      "metadata": {
        "id": "i2ALwQBwlf4t"
      }
    },
    {
      "cell_type": "code",
      "source": [
        "print(\"\\nTransaction Data:\")\n",
        "print(transaction_data.head())"
      ],
      "metadata": {
        "colab": {
          "base_uri": "https://localhost:8080/"
        },
        "id": "R_fdudXzjWYR",
        "outputId": "7b02bb10-e6a0-4a00-f8e3-209c28ad84aa"
      },
      "execution_count": 29,
      "outputs": [
        {
          "output_type": "stream",
          "name": "stdout",
          "text": [
            "\n",
            "Transaction Data:\n",
            "                                            Itemname\n",
            "0  WHITE HANGING HEART T-LIGHT HOLDER, WHITE META...\n",
            "1  HAND WARMER UNION JACK, HAND WARMER RED POLKA DOT\n",
            "2  ASSORTED COLOUR BIRD ORNAMENT, POPPY'S PLAYHOU...\n",
            "3  JAM MAKING SET WITH JARS, RED COAT RACK PARIS ...\n",
            "4                           BATH BUILDING BLOCK WORD\n"
          ]
        }
      ]
    }
  ]
}